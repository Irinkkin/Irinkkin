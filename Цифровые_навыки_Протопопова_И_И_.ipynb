{
  "nbformat": 4,
  "nbformat_minor": 0,
  "metadata": {
    "colab": {
      "name": "Цифровые навыки_Протопопова_И.И..ipynb",
      "provenance": []
    },
    "kernelspec": {
      "name": "python3",
      "display_name": "Python 3"
    },
    "language_info": {
      "name": "python"
    }
  },
  "cells": [
    {
      "cell_type": "code",
      "source": [
        "%%html\n",
        "<iframe width='853' height='480' src='https://embed.coggle.it/diagram/YC4IxOANbSrVKSyk/74ce042e6a44cc05abd079a4dcbd06c651970e7d1d4a2f4365151685855f05bb' frameborder='0' allowfullscreen></iframe>"
      ],
      "metadata": {
        "colab": {
          "base_uri": "https://localhost:8080/",
          "height": 501
        },
        "id": "OSvUU0S4PZfg",
        "outputId": "2b43acdf-86ca-4ac7-e21c-a8ae86ffb806"
      },
      "execution_count": null,
      "outputs": [
        {
          "output_type": "display_data",
          "data": {
            "text/html": [
              "<iframe width='853' height='480' src='https://embed.coggle.it/diagram/YC4IxOANbSrVKSyk/74ce042e6a44cc05abd079a4dcbd06c651970e7d1d4a2f4365151685855f05bb' frameborder='0' allowfullscreen></iframe>"
            ],
            "text/plain": [
              "<IPython.core.display.HTML object>"
            ]
          },
          "metadata": {}
        }
      ]
    },
    {
      "cell_type": "code",
      "source": [
        "%%html\n",
        "<iframe width=\"600\" height=\"450\" src=\"https://datastudio.google.com/embed/reporting/5f6986e6-a7bd-46fc-a948-23f5e992bf09/page/p_1nrtj0r0nc\" frameborder=\"0\" style=\"border:0\" allowfullscreen></iframe>"
      ],
      "metadata": {
        "colab": {
          "base_uri": "https://localhost:8080/",
          "height": 471
        },
        "id": "y6_3nVZmQbK3",
        "outputId": "89152e4a-063c-487d-dfb7-c8a7affb1513"
      },
      "execution_count": null,
      "outputs": [
        {
          "output_type": "display_data",
          "data": {
            "text/html": [
              "<iframe width=\"600\" height=\"450\" src=\"https://datastudio.google.com/embed/reporting/5f6986e6-a7bd-46fc-a948-23f5e992bf09/page/p_1nrtj0r0nc\" frameborder=\"0\" style=\"border:0\" allowfullscreen></iframe>"
            ],
            "text/plain": [
              "<IPython.core.display.HTML object>"
            ]
          },
          "metadata": {}
        }
      ]
    },
    {
      "cell_type": "code",
      "source": [
        "%%html\n",
        "<iframe width=\"600\" height=\"450\" src=\"https://datastudio.google.com/embed/reporting/5f6986e6-a7bd-46fc-a948-23f5e992bf09/page/w8mbC\" frameborder=\"0\" style=\"border:0\" allowfullscreen></iframe>"
      ],
      "metadata": {
        "colab": {
          "base_uri": "https://localhost:8080/",
          "height": 471
        },
        "id": "nBgRtuvVRQdd",
        "outputId": "a3081c32-7865-495d-8a8e-44ddfc44d534"
      },
      "execution_count": null,
      "outputs": [
        {
          "output_type": "display_data",
          "data": {
            "text/html": [
              "<iframe width=\"600\" height=\"450\" src=\"https://datastudio.google.com/embed/reporting/5f6986e6-a7bd-46fc-a948-23f5e992bf09/page/w8mbC\" frameborder=\"0\" style=\"border:0\" allowfullscreen></iframe>"
            ],
            "text/plain": [
              "<IPython.core.display.HTML object>"
            ]
          },
          "metadata": {}
        }
      ]
    },
    {
      "cell_type": "code",
      "source": [
        "%%html\n",
        "<iframe width=\"600\" height=\"450\" src=\"https://datastudio.google.com/embed/reporting/fc2dedaf-b7fb-49ba-9091-c530d59a1e87/page/8tNiC\" frameborder=\"0\" style=\"border:0\" allowfullscreen></iframe>"
      ],
      "metadata": {
        "colab": {
          "base_uri": "https://localhost:8080/",
          "height": 471
        },
        "id": "jdKi76yvTRy1",
        "outputId": "5db7bf4e-f84e-4823-c491-610e9dcd1396"
      },
      "execution_count": null,
      "outputs": [
        {
          "output_type": "display_data",
          "data": {
            "text/html": [
              "<iframe width=\"600\" height=\"450\" src=\"https://datastudio.google.com/embed/reporting/fc2dedaf-b7fb-49ba-9091-c530d59a1e87/page/8tNiC\" frameborder=\"0\" style=\"border:0\" allowfullscreen></iframe>"
            ],
            "text/plain": [
              "<IPython.core.display.HTML object>"
            ]
          },
          "metadata": {}
        }
      ]
    },
    {
      "cell_type": "code",
      "source": [
        "%%html\n",
        "<iframe width=\"600\" height=\"450\" src=\"https://datastudio.google.com/embed/reporting/28ae9849-257c-4d69-b045-8a1b8fcd4cda/page/SKifC\" frameborder=\"0\" style=\"border:0\" allowfullscreen></iframe>"
      ],
      "metadata": {
        "colab": {
          "base_uri": "https://localhost:8080/",
          "height": 471
        },
        "id": "H9whaCe6TmGG",
        "outputId": "d8553329-455f-4beb-e152-c61a1dbe0e7b"
      },
      "execution_count": null,
      "outputs": [
        {
          "output_type": "display_data",
          "data": {
            "text/html": [
              "<iframe width=\"600\" height=\"450\" src=\"https://datastudio.google.com/embed/reporting/28ae9849-257c-4d69-b045-8a1b8fcd4cda/page/SKifC\" frameborder=\"0\" style=\"border:0\" allowfullscreen></iframe>"
            ],
            "text/plain": [
              "<IPython.core.display.HTML object>"
            ]
          },
          "metadata": {}
        }
      ]
    },
    {
      "cell_type": "code",
      "source": [
        "%%html\n",
        "<iframe width=\"600\" height=\"450\" src=\"https://datastudio.google.com/embed/reporting/969a722d-945b-4e4a-85c2-1fe84d3ffbc7/page/yZEcC\" frameborder=\"0\" style=\"border:0\" allowfullscreen></iframe>"
      ],
      "metadata": {
        "colab": {
          "base_uri": "https://localhost:8080/",
          "height": 471
        },
        "id": "pt27zC3QUVwR",
        "outputId": "01089aed-bc6a-46e8-e547-736167a91226"
      },
      "execution_count": null,
      "outputs": [
        {
          "output_type": "display_data",
          "data": {
            "text/html": [
              "<iframe width=\"600\" height=\"450\" src=\"https://datastudio.google.com/embed/reporting/969a722d-945b-4e4a-85c2-1fe84d3ffbc7/page/yZEcC\" frameborder=\"0\" style=\"border:0\" allowfullscreen></iframe>"
            ],
            "text/plain": [
              "<IPython.core.display.HTML object>"
            ]
          },
          "metadata": {}
        }
      ]
    },
    {
      "cell_type": "code",
      "source": [
        "%%html\n",
        "<iframe src=\"https://drive.google.com/file/d/1ok5aKgbsNeUyZFiGDThoup0PYg6o6eWI/preview\" width=\"640\" height=\"480\" allow=\"autoplay\"></iframe>"
      ],
      "metadata": {
        "colab": {
          "base_uri": "https://localhost:8080/",
          "height": 505
        },
        "id": "Pe-lZKIvVFfu",
        "outputId": "1f37d4a5-285a-42c3-d91b-b29ee4c3a4ef"
      },
      "execution_count": null,
      "outputs": [
        {
          "output_type": "display_data",
          "data": {
            "text/html": [
              "<iframe src=\"https://drive.google.com/file/d/1ok5aKgbsNeUyZFiGDThoup0PYg6o6eWI/preview\" width=\"640\" height=\"480\" allow=\"autoplay\"></iframe>"
            ],
            "text/plain": [
              "<IPython.core.display.HTML object>"
            ]
          },
          "metadata": {}
        }
      ]
    },
    {
      "cell_type": "code",
      "source": [
        "%%html\n",
        "<iframe src=\"https://drive.google.com/file/d/1M1omhDQ1fwP-H6lW7Z1Uai6wPQq67OYt/preview\" width=\"640\" height=\"480\" allow=\"autoplay\"></iframe>"
      ],
      "metadata": {
        "colab": {
          "base_uri": "https://localhost:8080/",
          "height": 505
        },
        "id": "kWOs1XuhVvCa",
        "outputId": "98510c58-0f1c-47dc-c73f-421d337b2d93"
      },
      "execution_count": null,
      "outputs": [
        {
          "output_type": "display_data",
          "data": {
            "text/html": [
              "<iframe src=\"https://drive.google.com/file/d/1M1omhDQ1fwP-H6lW7Z1Uai6wPQq67OYt/preview\" width=\"640\" height=\"480\" allow=\"autoplay\"></iframe>"
            ],
            "text/plain": [
              "<IPython.core.display.HTML object>"
            ]
          },
          "metadata": {}
        }
      ]
    }
  ]
}